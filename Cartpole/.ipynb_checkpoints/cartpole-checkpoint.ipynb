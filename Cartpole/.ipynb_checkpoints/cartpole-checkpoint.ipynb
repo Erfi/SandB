{
 "cells": [
  {
   "cell_type": "markdown",
   "metadata": {},
   "source": [
    "#### Gradient Descent SARSA algorithm demonstration using Cart-Pole env from OpenAI Gym"
   ]
  },
  {
   "cell_type": "code",
   "execution_count": 5,
   "metadata": {
    "collapsed": false
   },
   "outputs": [
    {
     "name": "stderr",
     "output_type": "stream",
     "text": [
      "[2017-02-22 16:56:38,498] Making new env: CartPole-v0\n"
     ]
    },
    {
     "name": "stdout",
     "output_type": "stream",
     "text": [
      "======= Agent =======\n",
      "\n",
      "Env: <CartPoleEnv instance>\n",
      "\n",
      "Initial Epsilon: 0.9\n",
      "Minimum Epsilon: 0.3\n",
      "Epsilon Decay Factor: 0.99\n",
      "\n",
      "Learning Rate(alpha): 0.001\n",
      "Discount Factor(gamma): 0.9\n",
      "Eligibility Trace Decay Factor: 0.9\n",
      "Replay Batch Size: 200\n",
      "\n",
      "=====================\n",
      "\n",
      "Episode 0 passed 5000 steps!\n",
      "Episode 1 finished after 270 timesteps. memory size: 0. epsilon: 0.0\n",
      "Episode 2 passed 5000 steps!\n"
     ]
    }
   ],
   "source": [
    "%run test.py -i ./weights/speacials/plus200.h5 -n 3 -r False"
   ]
  },
  {
   "cell_type": "code",
   "execution_count": 1,
   "metadata": {
    "collapsed": false
   },
   "outputs": [
    {
     "name": "stderr",
     "output_type": "stream",
     "text": [
      "Using TensorFlow backend.\n",
      "[2017-02-21 14:34:31,577] Making new env: CartPole-v0\n"
     ]
    },
    {
     "name": "stdout",
     "output_type": "stream",
     "text": [
      "======= Agent =======\n",
      "\n",
      "Env: <CartPoleEnv instance>\n",
      "\n",
      "Initial Epsilon: 0.9\n",
      "Minimum Epsilon: 0.3\n",
      "Epsilon Decay Factor: 0.99\n",
      "\n",
      "Learning Rate(alpha): 0.001\n",
      "Discount Factor(gamma): 0.9\n",
      "Eligibility Trace Decay Factor: 0.9\n",
      "Replay Batch Size: 200\n",
      "\n",
      "=====================\n",
      "\n",
      "Episode 0 finished after 14 timesteps. memory size: 14. epsilon: 0.9\n",
      "Saving the model...\n",
      "\n",
      "Episode 1 finished after 13 timesteps. memory size: 27. epsilon: 0.891\n",
      "Episode 2 finished after 14 timesteps. memory size: 41. epsilon: 0.88209\n",
      "Episode 3 finished after 22 timesteps. memory size: 63. epsilon: 0.8732691\n",
      "Episode 4 finished after 26 timesteps. memory size: 89. epsilon: 0.864536409\n",
      "Episode 5 finished after 12 timesteps. memory size: 101. epsilon: 0.85589104491\n",
      "Episode 6 finished after 16 timesteps. memory size: 117. epsilon: 0.847332134461\n",
      "Episode 7 finished after 13 timesteps. memory size: 130. epsilon: 0.838858813116\n",
      "Episode 8 finished after 16 timesteps. memory size: 146. epsilon: 0.830470224985\n",
      "Episode 9 finished after 17 timesteps. memory size: 163. epsilon: 0.822165522735\n",
      "Episode 10 finished after 21 timesteps. memory size: 184. epsilon: 0.813943867508\n"
     ]
    }
   ],
   "source": [
    "%run train.py -n 301"
   ]
  },
  {
   "cell_type": "code",
   "execution_count": null,
   "metadata": {
    "collapsed": true
   },
   "outputs": [],
   "source": []
  }
 ],
 "metadata": {
  "kernelspec": {
   "display_name": "Python 2",
   "language": "python",
   "name": "python2"
  },
  "language_info": {
   "codemirror_mode": {
    "name": "ipython",
    "version": 2
   },
   "file_extension": ".py",
   "mimetype": "text/x-python",
   "name": "python",
   "nbconvert_exporter": "python",
   "pygments_lexer": "ipython2",
   "version": "2.7.13"
  }
 },
 "nbformat": 4,
 "nbformat_minor": 1
}
