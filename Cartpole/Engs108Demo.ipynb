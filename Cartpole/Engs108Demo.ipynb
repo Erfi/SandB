{
 "cells": [
  {
   "cell_type": "markdown",
   "metadata": {},
   "source": [
    "# Engs 108 Demo"
   ]
  },
  {
   "cell_type": "markdown",
   "metadata": {},
   "source": [
    "## Training the RL Agent"
   ]
  },
  {
   "cell_type": "code",
   "execution_count": 5,
   "metadata": {
    "collapsed": false
   },
   "outputs": [
    {
     "name": "stderr",
     "output_type": "stream",
     "text": [
      "[2017-10-04 13:36:15,848] Making new env: CartPole-v0\n"
     ]
    },
    {
     "name": "stdout",
     "output_type": "stream",
     "text": [
      "======= Agent =======\n",
      "\n",
      "Env: <CartPoleEnv instance>\n",
      "\n",
      "Initial Epsilon: 0.9\n",
      "Minimum Epsilon: 0.3\n",
      "Epsilon Decay Factor: 0.99\n",
      "\n",
      "Learning Rate(alpha): 0.001\n",
      "Discount Factor(gamma): 0.9\n",
      "Eligibility Trace Decay Factor: 0.99\n",
      "Replay Batch Size: 200\n",
      "\n",
      "=====================\n",
      "\n",
      "Episode 0 finished after 34 timesteps. memory size: 18. epsilon: 0.9\n",
      "Saving the model...\n",
      "\n",
      "Episode 1 finished after 16 timesteps. memory size: 29. epsilon: 0.891\n",
      "Episode 2 finished after 12 timesteps. memory size: 30. epsilon: 0.88209\n",
      "Episode 3 finished after 32 timesteps. memory size: 48. epsilon: 0.8732691\n",
      "Episode 4 finished after 15 timesteps. memory size: 50. epsilon: 0.864536409\n",
      "Episode 5 finished after 10 timesteps. memory size: 51. epsilon: 0.85589104491\n",
      "Episode 6 finished after 13 timesteps. memory size: 56. epsilon: 0.847332134461\n",
      "Episode 7 finished after 21 timesteps. memory size: 67. epsilon: 0.838858813116\n",
      "Episode 8 finished after 17 timesteps. memory size: 76. epsilon: 0.830470224985\n",
      "Episode 9 finished after 13 timesteps. memory size: 81. epsilon: 0.822165522735\n",
      "Episode 10 finished after 28 timesteps. memory size: 106. epsilon: 0.813943867508\n",
      "Episode 11 finished after 23 timesteps. memory size: 124. epsilon: 0.805804428833\n",
      "Episode 12 finished after 26 timesteps. memory size: 142. epsilon: 0.797746384545\n",
      "Episode 13 finished after 19 timesteps. memory size: 160. epsilon: 0.789768920699\n",
      "Episode 14 finished after 14 timesteps. memory size: 166. epsilon: 0.781871231492\n",
      "Episode 15 finished after 16 timesteps. memory size: 178. epsilon: 0.774052519177\n",
      "Episode 16 finished after 17 timesteps. memory size: 185. epsilon: 0.766311993985\n",
      "Episode 17 finished after 27 timesteps. memory size: 196. epsilon: 0.758648874046\n",
      "Episode 18 finished after 16 timesteps. memory size: 202. epsilon: 0.751062385305\n",
      "Episode 19 finished after 34 timesteps. memory size: 218. epsilon: 0.743551761452\n",
      "Episode 20 finished after 14 timesteps. memory size: 223. epsilon: 0.736116243838\n",
      "Episode 21 finished after 68 timesteps. memory size: 272. epsilon: 0.728755081399\n",
      "Episode 22 finished after 20 timesteps. memory size: 277. epsilon: 0.721467530585\n",
      "Episode 23 finished after 29 timesteps. memory size: 289. epsilon: 0.714252855279\n",
      "Episode 24 finished after 19 timesteps. memory size: 290. epsilon: 0.707110326726\n",
      "Episode 25 finished after 43 timesteps. memory size: 306. epsilon: 0.700039223459\n",
      "Episode 26 finished after 13 timesteps. memory size: 307. epsilon: 0.693038831225\n",
      "Episode 27 finished after 104 timesteps. memory size: 387. epsilon: 0.686108442912\n",
      "Episode 28 finished after 15 timesteps. memory size: 388. epsilon: 0.679247358483\n",
      "Episode 29 finished after 27 timesteps. memory size: 398. epsilon: 0.672454884898\n",
      "Episode 30 finished after 17 timesteps. memory size: 404. epsilon: 0.665730336049\n",
      "Episode 31 finished after 17 timesteps. memory size: 406. epsilon: 0.659073032689\n",
      "Episode 32 finished after 13 timesteps. memory size: 411. epsilon: 0.652482302362\n",
      "Episode 33 finished after 20 timesteps. memory size: 413. epsilon: 0.645957479338\n",
      "Episode 34 finished after 12 timesteps. memory size: 414. epsilon: 0.639497904545\n",
      "Episode 35 finished after 16 timesteps. memory size: 418. epsilon: 0.6331029255\n",
      "Episode 36 finished after 16 timesteps. memory size: 423. epsilon: 0.626771896245\n",
      "Episode 37 finished after 13 timesteps. memory size: 426. epsilon: 0.620504177282\n",
      "Episode 38 finished after 76 timesteps. memory size: 479. epsilon: 0.614299135509\n",
      "Episode 39 finished after 13 timesteps. memory size: 482. epsilon: 0.608156144154\n",
      "Episode 40 finished after 91 timesteps. memory size: 544. epsilon: 0.602074582713\n",
      "Episode 41 finished after 16 timesteps. memory size: 551. epsilon: 0.596053836886\n",
      "Episode 42 finished after 16 timesteps. memory size: 556. epsilon: 0.590093298517\n",
      "Episode 43 finished after 16 timesteps. memory size: 558. epsilon: 0.584192365532\n",
      "Episode 44 finished after 22 timesteps. memory size: 561. epsilon: 0.578350441876\n",
      "Episode 45 finished after 102 timesteps. memory size: 635. epsilon: 0.572566937457\n",
      "Episode 46 finished after 75 timesteps. memory size: 684. epsilon: 0.566841268083\n",
      "Episode 47 finished after 26 timesteps. memory size: 693. epsilon: 0.561172855402\n",
      "Episode 48 finished after 40 timesteps. memory size: 710. epsilon: 0.555561126848\n",
      "Episode 49 finished after 28 timesteps. memory size: 718. epsilon: 0.55000551558\n",
      "Episode 50 finished after 36 timesteps. memory size: 727. epsilon: 0.544505460424\n",
      "Saving the model...\n",
      "\n",
      "Episode 51 finished after 11 timesteps. memory size: 731. epsilon: 0.53906040582\n",
      "Episode 52 finished after 43 timesteps. memory size: 747. epsilon: 0.533669801761\n",
      "Episode 53 finished after 44 timesteps. memory size: 759. epsilon: 0.528333103744\n",
      "Episode 54 finished after 18 timesteps. memory size: 767. epsilon: 0.523049772706\n",
      "Episode 55 finished after 17 timesteps. memory size: 776. epsilon: 0.517819274979\n",
      "Episode 56 finished after 61 timesteps. memory size: 809. epsilon: 0.512641082229\n",
      "Episode 57 finished after 46 timesteps. memory size: 831. epsilon: 0.507514671407\n",
      "Episode 58 finished after 34 timesteps. memory size: 839. epsilon: 0.502439524693\n",
      "Episode 59 finished after 18 timesteps. memory size: 847. epsilon: 0.497415129446\n",
      "Episode 60 finished after 48 timesteps. memory size: 875. epsilon: 0.492440978152\n",
      "Episode 61 finished after 18 timesteps. memory size: 885. epsilon: 0.48751656837\n",
      "Episode 62 finished after 20 timesteps. memory size: 896. epsilon: 0.482641402686\n",
      "Episode 63 finished after 21 timesteps. memory size: 901. epsilon: 0.47781498866\n",
      "Episode 64 finished after 31 timesteps. memory size: 920. epsilon: 0.473036838773\n",
      "Episode 65 finished after 38 timesteps. memory size: 938. epsilon: 0.468306470385\n",
      "Episode 66 finished after 60 timesteps. memory size: 966. epsilon: 0.463623405681\n",
      "Episode 67 finished after 95 timesteps. memory size: 1041. epsilon: 0.458987171625\n",
      "Episode 68 finished after 14 timesteps. memory size: 1054. epsilon: 0.454397299908\n",
      "Episode 69 finished after 29 timesteps. memory size: 1069. epsilon: 0.449853326909\n",
      "Episode 70 finished after 65 timesteps. memory size: 1107. epsilon: 0.44535479364\n",
      "Episode 71 finished after 26 timesteps. memory size: 1125. epsilon: 0.440901245704\n",
      "Episode 72 finished after 82 timesteps. memory size: 1177. epsilon: 0.436492233247\n",
      "Episode 73 finished after 57 timesteps. memory size: 1211. epsilon: 0.432127310914\n",
      "Episode 74 finished after 28 timesteps. memory size: 1223. epsilon: 0.427806037805\n",
      "Episode 75 finished after 61 timesteps. memory size: 1250. epsilon: 0.423527977427\n",
      "Episode 76 finished after 23 timesteps. memory size: 1262. epsilon: 0.419292697653\n",
      "Episode 77 finished after 316 timesteps. memory size: 1546. epsilon: 0.415099770676\n",
      "Episode 78 finished after 46 timesteps. memory size: 1562. epsilon: 0.41094877297\n",
      "Episode 79 finished after 44 timesteps. memory size: 1582. epsilon: 0.40683928524\n",
      "Episode 80 finished after 103 timesteps. memory size: 1648. epsilon: 0.402770892387\n",
      "Episode 81 finished after 76 timesteps. memory size: 1699. epsilon: 0.398743183464\n",
      "Episode 82 finished after 117 timesteps. memory size: 1780. epsilon: 0.394755751629\n",
      "Episode 83 finished after 157 timesteps. memory size: 1910. epsilon: 0.390808194113\n",
      "Episode 84 finished after 39 timesteps. memory size: 1930. epsilon: 0.386900112172\n",
      "Episode 85 finished after 35 timesteps. memory size: 1954. epsilon: 0.38303111105\n",
      "Episode 86 finished after 103 timesteps. memory size: 2027. epsilon: 0.379200799939\n",
      "Episode 87 finished after 31 timesteps. memory size: 2047. epsilon: 0.37540879194\n",
      "Episode 88 finished after 48 timesteps. memory size: 2075. epsilon: 0.37165470402\n",
      "Episode 89 finished after 53 timesteps. memory size: 2103. epsilon: 0.36793815698\n",
      "Episode 90 finished after 47 timesteps. memory size: 2130. epsilon: 0.36425877541\n",
      "Episode 91 finished after 106 timesteps. memory size: 2195. epsilon: 0.360616187656\n",
      "Episode 92 finished after 40 timesteps. memory size: 2221. epsilon: 0.35701002578\n",
      "Episode 93 finished after 18 timesteps. memory size: 2234. epsilon: 0.353439925522\n",
      "Episode 94 finished after 94 timesteps. memory size: 2291. epsilon: 0.349905526267\n",
      "Episode 95 finished after 78 timesteps. memory size: 2345. epsilon: 0.346406471004\n",
      "Episode 96 finished after 64 timesteps. memory size: 2383. epsilon: 0.342942406294\n",
      "Episode 97 finished after 162 timesteps. memory size: 2516. epsilon: 0.339512982231\n",
      "Episode 98 finished after 81 timesteps. memory size: 2566. epsilon: 0.336117852409\n",
      "Episode 99 finished after 166 timesteps. memory size: 2702. epsilon: 0.332756673885\n"
     ]
    }
   ],
   "source": [
    "%run train.py -n 100 -r False"
   ]
  },
  {
   "cell_type": "markdown",
   "metadata": {},
   "source": [
    "## Testing the RL Agent"
   ]
  },
  {
   "cell_type": "code",
   "execution_count": 6,
   "metadata": {
    "collapsed": false
   },
   "outputs": [
    {
     "name": "stderr",
     "output_type": "stream",
     "text": [
      "[2017-10-04 13:40:28,277] Making new env: CartPole-v0\n"
     ]
    },
    {
     "name": "stdout",
     "output_type": "stream",
     "text": [
      "======= Agent =======\n",
      "\n",
      "Env: <CartPoleEnv instance>\n",
      "\n",
      "Initial Epsilon: 0.9\n",
      "Minimum Epsilon: 0.3\n",
      "Epsilon Decay Factor: 0.99\n",
      "\n",
      "Learning Rate(alpha): 0.001\n",
      "Discount Factor(gamma): 0.9\n",
      "Eligibility Trace Decay Factor: 0.99\n",
      "Replay Batch Size: 200\n",
      "\n",
      "=====================\n",
      "\n",
      "Episode 0 passed 5000 steps!\n",
      "Episode 1 passed 5000 steps!\n",
      "Episode 2 passed 5000 steps!\n",
      "Episode 3 passed 5000 steps!\n",
      "Episode 4 passed 5000 steps!\n",
      "Episode 5 passed 5000 steps!\n",
      "Episode 6 passed 5000 steps!\n",
      "Episode 7 passed 5000 steps!\n",
      "Episode 8 passed 5000 steps!\n",
      "Episode 9 passed 5000 steps!\n",
      "Episode 10 passed 5000 steps!\n",
      "Episode 11 passed 5000 steps!\n",
      "Episode 12 passed 5000 steps!\n",
      "Episode 13 passed 5000 steps!\n",
      "Episode 14 passed 5000 steps!\n",
      "Episode 15 passed 5000 steps!\n",
      "Episode 16 passed 5000 steps!\n",
      "Episode 17 passed 5000 steps!\n",
      "Episode 18 passed 5000 steps!\n",
      "Episode 19 passed 5000 steps!\n",
      "Episode 20 passed 5000 steps!\n",
      "Episode 21 passed 5000 steps!\n",
      "Episode 22 passed 5000 steps!\n",
      "Episode 23 passed 5000 steps!\n",
      "Episode 24 passed 5000 steps!\n",
      "Episode 25 passed 5000 steps!\n",
      "Episode 26 passed 5000 steps!\n",
      "Episode 27 passed 5000 steps!\n",
      "Episode 28 passed 5000 steps!\n",
      "Episode 29 passed 5000 steps!\n"
     ]
    }
   ],
   "source": [
    "%run test.py -i weights/speacials/weight_minEps0.3_numEpisodes301.h5 -n 30 -r True"
   ]
  },
  {
   "cell_type": "markdown",
   "metadata": {},
   "source": [
    "### Difficulties:\n",
    "- Related Samples --> Replay Buffer\n",
    "- Scalability --> Neural Networks\n",
    "- Exploration vs. Exploitation "
   ]
  },
  {
   "cell_type": "markdown",
   "metadata": {},
   "source": [
    "### Useful Links:\n",
    "- [Evelutionary Algorithms](https://www.youtube.com/watch?v=GOFws_hhZs8&list=PLrUdxfaFpuuK0rj55Rhc187Tn9vvxck7t)\n",
    "- [Policy Gradient](http://karpathy.github.io/2016/05/31/rl/)"
   ]
  },
  {
   "cell_type": "markdown",
   "metadata": {},
   "source": [
    "### Current and Future Directions:\n",
    "- Transfer Learning\n",
    "- Inverse Reinforcement Learning or Apprenticeship learning "
   ]
  },
  {
   "cell_type": "code",
   "execution_count": null,
   "metadata": {
    "collapsed": true
   },
   "outputs": [],
   "source": []
  }
 ],
 "metadata": {
  "kernelspec": {
   "display_name": "Python 2",
   "language": "python",
   "name": "python2"
  },
  "language_info": {
   "codemirror_mode": {
    "name": "ipython",
    "version": 2
   },
   "file_extension": ".py",
   "mimetype": "text/x-python",
   "name": "python",
   "nbconvert_exporter": "python",
   "pygments_lexer": "ipython2",
   "version": "2.7.13"
  }
 },
 "nbformat": 4,
 "nbformat_minor": 2
}
